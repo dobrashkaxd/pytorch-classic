{
  "nbformat": 4,
  "nbformat_minor": 0,
  "metadata": {
    "colab": {
      "provenance": [],
      "collapsed_sections": [
        "cLRNO5ga7jNT",
        "23qOf1LR7mfL"
      ]
    },
    "kernelspec": {
      "name": "python3",
      "display_name": "Python 3"
    },
    "language_info": {
      "name": "python"
    },
    "widgets": {
      "application/vnd.jupyter.widget-state+json": {
        "a552628994c246f680568c84c3b70765": {
          "model_module": "@jupyter-widgets/controls",
          "model_name": "HBoxModel",
          "model_module_version": "1.5.0",
          "state": {
            "_dom_classes": [],
            "_model_module": "@jupyter-widgets/controls",
            "_model_module_version": "1.5.0",
            "_model_name": "HBoxModel",
            "_view_count": null,
            "_view_module": "@jupyter-widgets/controls",
            "_view_module_version": "1.5.0",
            "_view_name": "HBoxView",
            "box_style": "",
            "children": [
              "IPY_MODEL_f0d0645a12d5450096a3f80ffed693e0",
              "IPY_MODEL_e20f16469ae7411d83ca650b5b9b2aa4",
              "IPY_MODEL_449b5e11871142a5abae1f9488457627"
            ],
            "layout": "IPY_MODEL_8e9f6616727d4cf6a8d849fd3be9d1e6"
          }
        },
        "f0d0645a12d5450096a3f80ffed693e0": {
          "model_module": "@jupyter-widgets/controls",
          "model_name": "HTMLModel",
          "model_module_version": "1.5.0",
          "state": {
            "_dom_classes": [],
            "_model_module": "@jupyter-widgets/controls",
            "_model_module_version": "1.5.0",
            "_model_name": "HTMLModel",
            "_view_count": null,
            "_view_module": "@jupyter-widgets/controls",
            "_view_module_version": "1.5.0",
            "_view_name": "HTMLView",
            "description": "",
            "description_tooltip": null,
            "layout": "IPY_MODEL_7b6aee9216b64c83bf2a68bbccf0411a",
            "placeholder": "​",
            "style": "IPY_MODEL_3eafc1337d494db0881c251973960273",
            "value": "100%"
          }
        },
        "e20f16469ae7411d83ca650b5b9b2aa4": {
          "model_module": "@jupyter-widgets/controls",
          "model_name": "FloatProgressModel",
          "model_module_version": "1.5.0",
          "state": {
            "_dom_classes": [],
            "_model_module": "@jupyter-widgets/controls",
            "_model_module_version": "1.5.0",
            "_model_name": "FloatProgressModel",
            "_view_count": null,
            "_view_module": "@jupyter-widgets/controls",
            "_view_module_version": "1.5.0",
            "_view_name": "ProgressView",
            "bar_style": "success",
            "description": "",
            "description_tooltip": null,
            "layout": "IPY_MODEL_6f1c2e0f78794c1bb97a34b7dcb94512",
            "max": 100,
            "min": 0,
            "orientation": "horizontal",
            "style": "IPY_MODEL_5f6c42791e3a406fa3bfa6cdfb3140fc",
            "value": 100
          }
        },
        "449b5e11871142a5abae1f9488457627": {
          "model_module": "@jupyter-widgets/controls",
          "model_name": "HTMLModel",
          "model_module_version": "1.5.0",
          "state": {
            "_dom_classes": [],
            "_model_module": "@jupyter-widgets/controls",
            "_model_module_version": "1.5.0",
            "_model_name": "HTMLModel",
            "_view_count": null,
            "_view_module": "@jupyter-widgets/controls",
            "_view_module_version": "1.5.0",
            "_view_name": "HTMLView",
            "description": "",
            "description_tooltip": null,
            "layout": "IPY_MODEL_767aeda8fd6e43de970a07fe6f08fdb2",
            "placeholder": "​",
            "style": "IPY_MODEL_139ff412180c494982e34a6b7f5b0d41",
            "value": " 100/100 [00:20&lt;00:00,  3.83it/s]"
          }
        },
        "8e9f6616727d4cf6a8d849fd3be9d1e6": {
          "model_module": "@jupyter-widgets/base",
          "model_name": "LayoutModel",
          "model_module_version": "1.2.0",
          "state": {
            "_model_module": "@jupyter-widgets/base",
            "_model_module_version": "1.2.0",
            "_model_name": "LayoutModel",
            "_view_count": null,
            "_view_module": "@jupyter-widgets/base",
            "_view_module_version": "1.2.0",
            "_view_name": "LayoutView",
            "align_content": null,
            "align_items": null,
            "align_self": null,
            "border": null,
            "bottom": null,
            "display": null,
            "flex": null,
            "flex_flow": null,
            "grid_area": null,
            "grid_auto_columns": null,
            "grid_auto_flow": null,
            "grid_auto_rows": null,
            "grid_column": null,
            "grid_gap": null,
            "grid_row": null,
            "grid_template_areas": null,
            "grid_template_columns": null,
            "grid_template_rows": null,
            "height": null,
            "justify_content": null,
            "justify_items": null,
            "left": null,
            "margin": null,
            "max_height": null,
            "max_width": null,
            "min_height": null,
            "min_width": null,
            "object_fit": null,
            "object_position": null,
            "order": null,
            "overflow": null,
            "overflow_x": null,
            "overflow_y": null,
            "padding": null,
            "right": null,
            "top": null,
            "visibility": null,
            "width": null
          }
        },
        "7b6aee9216b64c83bf2a68bbccf0411a": {
          "model_module": "@jupyter-widgets/base",
          "model_name": "LayoutModel",
          "model_module_version": "1.2.0",
          "state": {
            "_model_module": "@jupyter-widgets/base",
            "_model_module_version": "1.2.0",
            "_model_name": "LayoutModel",
            "_view_count": null,
            "_view_module": "@jupyter-widgets/base",
            "_view_module_version": "1.2.0",
            "_view_name": "LayoutView",
            "align_content": null,
            "align_items": null,
            "align_self": null,
            "border": null,
            "bottom": null,
            "display": null,
            "flex": null,
            "flex_flow": null,
            "grid_area": null,
            "grid_auto_columns": null,
            "grid_auto_flow": null,
            "grid_auto_rows": null,
            "grid_column": null,
            "grid_gap": null,
            "grid_row": null,
            "grid_template_areas": null,
            "grid_template_columns": null,
            "grid_template_rows": null,
            "height": null,
            "justify_content": null,
            "justify_items": null,
            "left": null,
            "margin": null,
            "max_height": null,
            "max_width": null,
            "min_height": null,
            "min_width": null,
            "object_fit": null,
            "object_position": null,
            "order": null,
            "overflow": null,
            "overflow_x": null,
            "overflow_y": null,
            "padding": null,
            "right": null,
            "top": null,
            "visibility": null,
            "width": null
          }
        },
        "3eafc1337d494db0881c251973960273": {
          "model_module": "@jupyter-widgets/controls",
          "model_name": "DescriptionStyleModel",
          "model_module_version": "1.5.0",
          "state": {
            "_model_module": "@jupyter-widgets/controls",
            "_model_module_version": "1.5.0",
            "_model_name": "DescriptionStyleModel",
            "_view_count": null,
            "_view_module": "@jupyter-widgets/base",
            "_view_module_version": "1.2.0",
            "_view_name": "StyleView",
            "description_width": ""
          }
        },
        "6f1c2e0f78794c1bb97a34b7dcb94512": {
          "model_module": "@jupyter-widgets/base",
          "model_name": "LayoutModel",
          "model_module_version": "1.2.0",
          "state": {
            "_model_module": "@jupyter-widgets/base",
            "_model_module_version": "1.2.0",
            "_model_name": "LayoutModel",
            "_view_count": null,
            "_view_module": "@jupyter-widgets/base",
            "_view_module_version": "1.2.0",
            "_view_name": "LayoutView",
            "align_content": null,
            "align_items": null,
            "align_self": null,
            "border": null,
            "bottom": null,
            "display": null,
            "flex": null,
            "flex_flow": null,
            "grid_area": null,
            "grid_auto_columns": null,
            "grid_auto_flow": null,
            "grid_auto_rows": null,
            "grid_column": null,
            "grid_gap": null,
            "grid_row": null,
            "grid_template_areas": null,
            "grid_template_columns": null,
            "grid_template_rows": null,
            "height": null,
            "justify_content": null,
            "justify_items": null,
            "left": null,
            "margin": null,
            "max_height": null,
            "max_width": null,
            "min_height": null,
            "min_width": null,
            "object_fit": null,
            "object_position": null,
            "order": null,
            "overflow": null,
            "overflow_x": null,
            "overflow_y": null,
            "padding": null,
            "right": null,
            "top": null,
            "visibility": null,
            "width": null
          }
        },
        "5f6c42791e3a406fa3bfa6cdfb3140fc": {
          "model_module": "@jupyter-widgets/controls",
          "model_name": "ProgressStyleModel",
          "model_module_version": "1.5.0",
          "state": {
            "_model_module": "@jupyter-widgets/controls",
            "_model_module_version": "1.5.0",
            "_model_name": "ProgressStyleModel",
            "_view_count": null,
            "_view_module": "@jupyter-widgets/base",
            "_view_module_version": "1.2.0",
            "_view_name": "StyleView",
            "bar_color": null,
            "description_width": ""
          }
        },
        "767aeda8fd6e43de970a07fe6f08fdb2": {
          "model_module": "@jupyter-widgets/base",
          "model_name": "LayoutModel",
          "model_module_version": "1.2.0",
          "state": {
            "_model_module": "@jupyter-widgets/base",
            "_model_module_version": "1.2.0",
            "_model_name": "LayoutModel",
            "_view_count": null,
            "_view_module": "@jupyter-widgets/base",
            "_view_module_version": "1.2.0",
            "_view_name": "LayoutView",
            "align_content": null,
            "align_items": null,
            "align_self": null,
            "border": null,
            "bottom": null,
            "display": null,
            "flex": null,
            "flex_flow": null,
            "grid_area": null,
            "grid_auto_columns": null,
            "grid_auto_flow": null,
            "grid_auto_rows": null,
            "grid_column": null,
            "grid_gap": null,
            "grid_row": null,
            "grid_template_areas": null,
            "grid_template_columns": null,
            "grid_template_rows": null,
            "height": null,
            "justify_content": null,
            "justify_items": null,
            "left": null,
            "margin": null,
            "max_height": null,
            "max_width": null,
            "min_height": null,
            "min_width": null,
            "object_fit": null,
            "object_position": null,
            "order": null,
            "overflow": null,
            "overflow_x": null,
            "overflow_y": null,
            "padding": null,
            "right": null,
            "top": null,
            "visibility": null,
            "width": null
          }
        },
        "139ff412180c494982e34a6b7f5b0d41": {
          "model_module": "@jupyter-widgets/controls",
          "model_name": "DescriptionStyleModel",
          "model_module_version": "1.5.0",
          "state": {
            "_model_module": "@jupyter-widgets/controls",
            "_model_module_version": "1.5.0",
            "_model_name": "DescriptionStyleModel",
            "_view_count": null,
            "_view_module": "@jupyter-widgets/base",
            "_view_module_version": "1.2.0",
            "_view_name": "StyleView",
            "description_width": ""
          }
        },
        "6758a5a44e9345e99e1491f9b072884d": {
          "model_module": "@jupyter-widgets/controls",
          "model_name": "HBoxModel",
          "model_module_version": "1.5.0",
          "state": {
            "_dom_classes": [],
            "_model_module": "@jupyter-widgets/controls",
            "_model_module_version": "1.5.0",
            "_model_name": "HBoxModel",
            "_view_count": null,
            "_view_module": "@jupyter-widgets/controls",
            "_view_module_version": "1.5.0",
            "_view_name": "HBoxView",
            "box_style": "",
            "children": [
              "IPY_MODEL_6d560648ba6e467ab4aa694bf5346afc",
              "IPY_MODEL_78cb842f93954337b19b1d4c79cfd93f",
              "IPY_MODEL_9cc1b89d520c459da1dda3d75754bf86"
            ],
            "layout": "IPY_MODEL_d257bc47b3af4cbabb91f0cd98154ea2"
          }
        },
        "6d560648ba6e467ab4aa694bf5346afc": {
          "model_module": "@jupyter-widgets/controls",
          "model_name": "HTMLModel",
          "model_module_version": "1.5.0",
          "state": {
            "_dom_classes": [],
            "_model_module": "@jupyter-widgets/controls",
            "_model_module_version": "1.5.0",
            "_model_name": "HTMLModel",
            "_view_count": null,
            "_view_module": "@jupyter-widgets/controls",
            "_view_module_version": "1.5.0",
            "_view_name": "HTMLView",
            "description": "",
            "description_tooltip": null,
            "layout": "IPY_MODEL_81d2e0299c1a4acba8ca0d6afb99cd6c",
            "placeholder": "​",
            "style": "IPY_MODEL_9b1f18d36e5b412d9d8bbb0da1fcd8c5",
            "value": "100%"
          }
        },
        "78cb842f93954337b19b1d4c79cfd93f": {
          "model_module": "@jupyter-widgets/controls",
          "model_name": "FloatProgressModel",
          "model_module_version": "1.5.0",
          "state": {
            "_dom_classes": [],
            "_model_module": "@jupyter-widgets/controls",
            "_model_module_version": "1.5.0",
            "_model_name": "FloatProgressModel",
            "_view_count": null,
            "_view_module": "@jupyter-widgets/controls",
            "_view_module_version": "1.5.0",
            "_view_name": "ProgressView",
            "bar_style": "success",
            "description": "",
            "description_tooltip": null,
            "layout": "IPY_MODEL_cef76571ed9949deb51b2e08d6fbefe3",
            "max": 100,
            "min": 0,
            "orientation": "horizontal",
            "style": "IPY_MODEL_1835019bae08479cab2eddfbee656fb3",
            "value": 100
          }
        },
        "9cc1b89d520c459da1dda3d75754bf86": {
          "model_module": "@jupyter-widgets/controls",
          "model_name": "HTMLModel",
          "model_module_version": "1.5.0",
          "state": {
            "_dom_classes": [],
            "_model_module": "@jupyter-widgets/controls",
            "_model_module_version": "1.5.0",
            "_model_name": "HTMLModel",
            "_view_count": null,
            "_view_module": "@jupyter-widgets/controls",
            "_view_module_version": "1.5.0",
            "_view_name": "HTMLView",
            "description": "",
            "description_tooltip": null,
            "layout": "IPY_MODEL_4a9896c6c66e4394a37ba68a78ef83d4",
            "placeholder": "​",
            "style": "IPY_MODEL_94af004af14446fe9d2f861e3229dbbe",
            "value": " 100/100 [00:03&lt;00:00, 23.77it/s]"
          }
        },
        "d257bc47b3af4cbabb91f0cd98154ea2": {
          "model_module": "@jupyter-widgets/base",
          "model_name": "LayoutModel",
          "model_module_version": "1.2.0",
          "state": {
            "_model_module": "@jupyter-widgets/base",
            "_model_module_version": "1.2.0",
            "_model_name": "LayoutModel",
            "_view_count": null,
            "_view_module": "@jupyter-widgets/base",
            "_view_module_version": "1.2.0",
            "_view_name": "LayoutView",
            "align_content": null,
            "align_items": null,
            "align_self": null,
            "border": null,
            "bottom": null,
            "display": null,
            "flex": null,
            "flex_flow": null,
            "grid_area": null,
            "grid_auto_columns": null,
            "grid_auto_flow": null,
            "grid_auto_rows": null,
            "grid_column": null,
            "grid_gap": null,
            "grid_row": null,
            "grid_template_areas": null,
            "grid_template_columns": null,
            "grid_template_rows": null,
            "height": null,
            "justify_content": null,
            "justify_items": null,
            "left": null,
            "margin": null,
            "max_height": null,
            "max_width": null,
            "min_height": null,
            "min_width": null,
            "object_fit": null,
            "object_position": null,
            "order": null,
            "overflow": null,
            "overflow_x": null,
            "overflow_y": null,
            "padding": null,
            "right": null,
            "top": null,
            "visibility": null,
            "width": null
          }
        },
        "81d2e0299c1a4acba8ca0d6afb99cd6c": {
          "model_module": "@jupyter-widgets/base",
          "model_name": "LayoutModel",
          "model_module_version": "1.2.0",
          "state": {
            "_model_module": "@jupyter-widgets/base",
            "_model_module_version": "1.2.0",
            "_model_name": "LayoutModel",
            "_view_count": null,
            "_view_module": "@jupyter-widgets/base",
            "_view_module_version": "1.2.0",
            "_view_name": "LayoutView",
            "align_content": null,
            "align_items": null,
            "align_self": null,
            "border": null,
            "bottom": null,
            "display": null,
            "flex": null,
            "flex_flow": null,
            "grid_area": null,
            "grid_auto_columns": null,
            "grid_auto_flow": null,
            "grid_auto_rows": null,
            "grid_column": null,
            "grid_gap": null,
            "grid_row": null,
            "grid_template_areas": null,
            "grid_template_columns": null,
            "grid_template_rows": null,
            "height": null,
            "justify_content": null,
            "justify_items": null,
            "left": null,
            "margin": null,
            "max_height": null,
            "max_width": null,
            "min_height": null,
            "min_width": null,
            "object_fit": null,
            "object_position": null,
            "order": null,
            "overflow": null,
            "overflow_x": null,
            "overflow_y": null,
            "padding": null,
            "right": null,
            "top": null,
            "visibility": null,
            "width": null
          }
        },
        "9b1f18d36e5b412d9d8bbb0da1fcd8c5": {
          "model_module": "@jupyter-widgets/controls",
          "model_name": "DescriptionStyleModel",
          "model_module_version": "1.5.0",
          "state": {
            "_model_module": "@jupyter-widgets/controls",
            "_model_module_version": "1.5.0",
            "_model_name": "DescriptionStyleModel",
            "_view_count": null,
            "_view_module": "@jupyter-widgets/base",
            "_view_module_version": "1.2.0",
            "_view_name": "StyleView",
            "description_width": ""
          }
        },
        "cef76571ed9949deb51b2e08d6fbefe3": {
          "model_module": "@jupyter-widgets/base",
          "model_name": "LayoutModel",
          "model_module_version": "1.2.0",
          "state": {
            "_model_module": "@jupyter-widgets/base",
            "_model_module_version": "1.2.0",
            "_model_name": "LayoutModel",
            "_view_count": null,
            "_view_module": "@jupyter-widgets/base",
            "_view_module_version": "1.2.0",
            "_view_name": "LayoutView",
            "align_content": null,
            "align_items": null,
            "align_self": null,
            "border": null,
            "bottom": null,
            "display": null,
            "flex": null,
            "flex_flow": null,
            "grid_area": null,
            "grid_auto_columns": null,
            "grid_auto_flow": null,
            "grid_auto_rows": null,
            "grid_column": null,
            "grid_gap": null,
            "grid_row": null,
            "grid_template_areas": null,
            "grid_template_columns": null,
            "grid_template_rows": null,
            "height": null,
            "justify_content": null,
            "justify_items": null,
            "left": null,
            "margin": null,
            "max_height": null,
            "max_width": null,
            "min_height": null,
            "min_width": null,
            "object_fit": null,
            "object_position": null,
            "order": null,
            "overflow": null,
            "overflow_x": null,
            "overflow_y": null,
            "padding": null,
            "right": null,
            "top": null,
            "visibility": null,
            "width": null
          }
        },
        "1835019bae08479cab2eddfbee656fb3": {
          "model_module": "@jupyter-widgets/controls",
          "model_name": "ProgressStyleModel",
          "model_module_version": "1.5.0",
          "state": {
            "_model_module": "@jupyter-widgets/controls",
            "_model_module_version": "1.5.0",
            "_model_name": "ProgressStyleModel",
            "_view_count": null,
            "_view_module": "@jupyter-widgets/base",
            "_view_module_version": "1.2.0",
            "_view_name": "StyleView",
            "bar_color": null,
            "description_width": ""
          }
        },
        "4a9896c6c66e4394a37ba68a78ef83d4": {
          "model_module": "@jupyter-widgets/base",
          "model_name": "LayoutModel",
          "model_module_version": "1.2.0",
          "state": {
            "_model_module": "@jupyter-widgets/base",
            "_model_module_version": "1.2.0",
            "_model_name": "LayoutModel",
            "_view_count": null,
            "_view_module": "@jupyter-widgets/base",
            "_view_module_version": "1.2.0",
            "_view_name": "LayoutView",
            "align_content": null,
            "align_items": null,
            "align_self": null,
            "border": null,
            "bottom": null,
            "display": null,
            "flex": null,
            "flex_flow": null,
            "grid_area": null,
            "grid_auto_columns": null,
            "grid_auto_flow": null,
            "grid_auto_rows": null,
            "grid_column": null,
            "grid_gap": null,
            "grid_row": null,
            "grid_template_areas": null,
            "grid_template_columns": null,
            "grid_template_rows": null,
            "height": null,
            "justify_content": null,
            "justify_items": null,
            "left": null,
            "margin": null,
            "max_height": null,
            "max_width": null,
            "min_height": null,
            "min_width": null,
            "object_fit": null,
            "object_position": null,
            "order": null,
            "overflow": null,
            "overflow_x": null,
            "overflow_y": null,
            "padding": null,
            "right": null,
            "top": null,
            "visibility": null,
            "width": null
          }
        },
        "94af004af14446fe9d2f861e3229dbbe": {
          "model_module": "@jupyter-widgets/controls",
          "model_name": "DescriptionStyleModel",
          "model_module_version": "1.5.0",
          "state": {
            "_model_module": "@jupyter-widgets/controls",
            "_model_module_version": "1.5.0",
            "_model_name": "DescriptionStyleModel",
            "_view_count": null,
            "_view_module": "@jupyter-widgets/base",
            "_view_module_version": "1.2.0",
            "_view_name": "StyleView",
            "description_width": ""
          }
        }
      }
    }
  },
  "cells": [
    {
      "cell_type": "markdown",
      "source": [
        "# Regression"
      ],
      "metadata": {
        "id": "cLRNO5ga7jNT"
      }
    },
    {
      "cell_type": "code",
      "execution_count": null,
      "metadata": {
        "id": "krzM8IAYmUBn",
        "colab": {
          "base_uri": "https://localhost:8080/"
        },
        "outputId": "099dcbd1-2bf6-4946-9f4c-e6622f17adee"
      },
      "outputs": [
        {
          "output_type": "stream",
          "name": "stderr",
          "text": [
            "<ipython-input-1-c4ef8f887295>:3: TqdmExperimentalWarning: Using `tqdm.autonotebook.tqdm` in notebook mode. Use `tqdm.tqdm` instead to force console mode (e.g. in jupyter console)\n",
            "  from tqdm.autonotebook import tqdm\n"
          ]
        }
      ],
      "source": [
        "import pandas as pd\n",
        "import numpy as np\n",
        "from tqdm.autonotebook import tqdm\n",
        "\n",
        "from sklearn.datasets import make_regression\n",
        "from sklearn.model_selection import train_test_split\n",
        "from sklearn import datasets\n",
        "\n",
        "import warnings\n",
        "import matplotlib.pyplot as plt\n",
        "\n",
        "warnings.filterwarnings(\"ignore\", \"FutureWarning\")\n",
        "plt.style.use(\"dark_background\")\n",
        "\n",
        "import torch\n",
        "import torch.nn as nn\n",
        "import torch.nn.functional as F\n",
        "from torch.utils.data import TensorDataset, DataLoader"
      ]
    },
    {
      "cell_type": "code",
      "source": [
        "DEVICE = \"cuda\" if torch.cuda.is_available() else \"cpu\"\n",
        "DEVICE"
      ],
      "metadata": {
        "colab": {
          "base_uri": "https://localhost:8080/",
          "height": 35
        },
        "id": "jaiHirRQo4Dh",
        "outputId": "d5e56f4b-74c9-4ba5-fd6c-4ca02f32419f"
      },
      "execution_count": null,
      "outputs": [
        {
          "output_type": "execute_result",
          "data": {
            "text/plain": [
              "'cpu'"
            ],
            "application/vnd.google.colaboratory.intrinsic+json": {
              "type": "string"
            }
          },
          "metadata": {},
          "execution_count": 2
        }
      ]
    },
    {
      "cell_type": "code",
      "source": [
        "X, y = make_regression(n_samples=1000)\n",
        "X_train, X_test, y_train, y_test = train_test_split(X, y)"
      ],
      "metadata": {
        "id": "CmnWo1dimZN9"
      },
      "execution_count": null,
      "outputs": []
    },
    {
      "cell_type": "code",
      "source": [
        "train_X = torch.from_numpy(X_train).to(torch.float32)\n",
        "train_y = torch.from_numpy(y_train).type_as(train_X)\n",
        "val_X = torch.from_numpy(X_test).to(torch.float32)\n",
        "val_y = torch.from_numpy(y_test).type_as(val_X)"
      ],
      "metadata": {
        "id": "dCpqUKLHms5e"
      },
      "execution_count": null,
      "outputs": []
    },
    {
      "cell_type": "code",
      "source": [
        "BATCH = 64\n",
        "\n",
        "train_dataset = TensorDataset(train_X, train_y)\n",
        "val_dataset = TensorDataset(val_X, val_y)\n",
        "\n",
        "train_loader = DataLoader(train_dataset, batch_size=BATCH)\n",
        "val_loader = DataLoader(val_dataset, batch_size=BATCH)\n",
        "input_features = X.shape[1]"
      ],
      "metadata": {
        "id": "V_ZXMQ78ms8b"
      },
      "execution_count": null,
      "outputs": []
    },
    {
      "cell_type": "code",
      "source": [
        "class Net(nn.Module):\n",
        "    def __init__(self, input_features):\n",
        "        super(Net, self).__init__()\n",
        "        self.layer1 = nn.Linear(input_features, 64)\n",
        "        self.relu1 = nn.ReLU()\n",
        "        self.layer2 = nn.Linear(64, 128)\n",
        "        self.relu2 = nn.ReLU()\n",
        "        self.layer3 = nn.Linear(128, 256)\n",
        "        self.relu3 = nn.ReLU()\n",
        "        self.layer4 = nn.Linear(256, 128)\n",
        "        self.relu4 = nn.ReLU()\n",
        "        self.layer5 = nn.Linear(128, 64)\n",
        "        self.relu5 = nn.ReLU()\n",
        "        self.layer6 = nn.Linear(64, 1)\n",
        "\n",
        "    def forward(self, x):\n",
        "        x = self.layer1(x)\n",
        "        x = self.relu1(x)\n",
        "        x = self.layer2(x)\n",
        "        x = self.relu2(x)\n",
        "        x = self.layer3(x)\n",
        "        x = self.relu3(x)\n",
        "        x = self.layer4(x)\n",
        "        x = self.relu4(x)\n",
        "        x = self.layer5(x)\n",
        "        x = self.relu5(x)\n",
        "        x = self.layer6(x)\n",
        "        return x\n"
      ],
      "metadata": {
        "id": "VLGJTATA2HOF"
      },
      "execution_count": null,
      "outputs": []
    },
    {
      "cell_type": "code",
      "source": [
        "model = Net(input_features=X.shape[1])\n",
        "\n",
        "loss_function = nn.MSELoss()\n",
        "optimizer = torch.optim.Adam(model.parameters(), lr=.042)\n",
        "scheduler = torch.optim.lr_scheduler.ExponentialLR(optimizer, gamma=0.95)"
      ],
      "metadata": {
        "id": "jnRS0voNnYeH"
      },
      "execution_count": null,
      "outputs": []
    },
    {
      "cell_type": "code",
      "source": [
        "# поместить модель на GPU\n",
        "model = model.to(DEVICE)\n",
        "\n",
        "losses_train = []\n",
        "losses_test = []\n",
        "total_loss = []\n",
        "lrs = []\n",
        "\n",
        "# задать общее количество эпох\n",
        "MAX_EPOCHS = 100\n",
        "# для каждой эпохи\n",
        "for epoch in tqdm(range(MAX_EPOCHS)):\n",
        "  # для каждой части датасета\n",
        "  for iteration, (X_batch, y_batch) in enumerate(train_loader):\n",
        "    # ЭТАП ОБУЧЕНИЯ\n",
        "    # мы переводим модель в режим обучения\n",
        "    model.train()\n",
        "    # ОБНУЛЯЕМ градиенты у оптимизатора\n",
        "    optimizer.zero_grad()\n",
        "    # пропускам данные через модель\n",
        "    outputs = model(X_batch.to(DEVICE))\n",
        "    # выравняем выходы в одномерный тензор\n",
        "    outputs = outputs.view(-1)\n",
        "    # считаем лосс\n",
        "    loss = loss_function(outputs, y_batch.to(DEVICE))\n",
        "    # делаем шаг в обратном направлении\n",
        "    loss.backward()\n",
        "    # собираем лоссы\n",
        "    losses_train.append(loss.detach().cpu().numpy().item())\n",
        "    # делаем шаг оптимизатора\n",
        "    optimizer.step()\n",
        "  scheduler.step()\n",
        "  lrs.append(scheduler.get_last_lr())\n",
        "  # собираем средний лосс\n",
        "  total_loss.append(np.mean(losses_train))\n",
        "  # ШАГ ВАЛИДАЦИИ\n",
        "  for iteration, (X_batch, y_batch) in enumerate(val_loader):\n",
        "    # режим инференса или валидации, тестирования\n",
        "    model.eval()\n",
        "    # обязательно добавить\n",
        "    with torch.no_grad():\n",
        "      outputs = model(X_batch.to(DEVICE))\n",
        "      outputs = outputs.view(-1)\n",
        "      loss = loss_function(outputs, y_batch.to(DEVICE))\n",
        "      losses_test.append(loss.detach().cpu().numpy().item())\n",
        "      # считаем вероятности\n",
        "      proba = torch.sigmoid(outputs)"
      ],
      "metadata": {
        "colab": {
          "base_uri": "https://localhost:8080/",
          "height": 49,
          "referenced_widgets": [
            "a552628994c246f680568c84c3b70765",
            "f0d0645a12d5450096a3f80ffed693e0",
            "e20f16469ae7411d83ca650b5b9b2aa4",
            "449b5e11871142a5abae1f9488457627",
            "8e9f6616727d4cf6a8d849fd3be9d1e6",
            "7b6aee9216b64c83bf2a68bbccf0411a",
            "3eafc1337d494db0881c251973960273",
            "6f1c2e0f78794c1bb97a34b7dcb94512",
            "5f6c42791e3a406fa3bfa6cdfb3140fc",
            "767aeda8fd6e43de970a07fe6f08fdb2",
            "139ff412180c494982e34a6b7f5b0d41"
          ]
        },
        "id": "CYDAnQSDn2GT",
        "outputId": "39d29950-f3b5-41e0-c247-5e636166c1ba"
      },
      "execution_count": null,
      "outputs": [
        {
          "output_type": "display_data",
          "data": {
            "text/plain": [
              "  0%|          | 0/100 [00:00<?, ?it/s]"
            ],
            "application/vnd.jupyter.widget-view+json": {
              "version_major": 2,
              "version_minor": 0,
              "model_id": "a552628994c246f680568c84c3b70765"
            }
          },
          "metadata": {}
        }
      ]
    },
    {
      "cell_type": "code",
      "source": [
        "plt.figure(figsize=(15, 6))\n",
        "plt.plot(range(len(total_loss)),\n",
        "         total_loss,\n",
        "         label='Train Loss',\n",
        "         color='g',\n",
        "         linestyle=\"-\"\n",
        "         )\n",
        "plt.xlabel(\"Epochs\")\n",
        "plt.ylabel(\"Loss\")\n",
        "plt.title(\"Torch_NN regression loss train\")\n",
        "plt.legend()\n",
        "plt.show()"
      ],
      "metadata": {
        "colab": {
          "base_uri": "https://localhost:8080/",
          "height": 564
        },
        "id": "Zy_i4B8Hn2JV",
        "outputId": "7c5e7520-23a1-4894-b8ff-35573091c696"
      },
      "execution_count": null,
      "outputs": [
        {
          "output_type": "display_data",
          "data": {
            "text/plain": [
              "<Figure size 1500x600 with 1 Axes>"
            ],
            "image/png": "[encoded data removed]"
          },
          "metadata": {}
        }
      ]
    },
    {
      "cell_type": "code",
      "source": [
        "plt.figure(figsize=(15, 6))\n",
        "plt.plot(range(len(losses_test)),\n",
        "         losses_test,\n",
        "         label='Test Loss',\n",
        "         color='b',\n",
        "         linestyle=\"-\"\n",
        "         )\n",
        "plt.title('Test Loss over Iterations')\n",
        "plt.xlabel('Iterations')\n",
        "plt.title(\"Torch_NN regression loss test\")\n",
        "plt.legend()\n",
        "plt.show()"
      ],
      "metadata": {
        "colab": {
          "base_uri": "https://localhost:8080/",
          "height": 564
        },
        "id": "3jUxbmmg0e4b",
        "outputId": "dd21cd0a-1247-4155-fae9-d953a2459383"
      },
      "execution_count": null,
      "outputs": [
        {
          "output_type": "display_data",
          "data": {
            "text/plain": [
              "<Figure size 1500x600 with 1 Axes>"
            ],
            "image/png": "[encoded data removed]"
          },
          "metadata": {}
        }
      ]
    },
    {
      "cell_type": "code",
      "source": [
        "plt.plot(lrs, label='Learning rate')\n",
        "plt.title('Learning rate')\n",
        "plt.xlabel(\"Epochs\")\n",
        "plt.ylabel(\"Learning rate\")\n",
        "plt.legend()\n",
        "plt.show()"
      ],
      "metadata": {
        "id": "1Jc4z144naYi",
        "colab": {
          "base_uri": "https://localhost:8080/",
          "height": 472
        },
        "outputId": "68bf9e23-4fc8-4d64-ff09-caa26cae1058"
      },
      "execution_count": null,
      "outputs": [
        {
          "output_type": "display_data",
          "data": {
            "text/plain": [
              "<Figure size 640x480 with 1 Axes>"
            ],
            "image/png": "[encoded data removed]"
          },
          "metadata": {}
        }
      ]
    },
    {
      "cell_type": "code",
      "source": [
        "with torch.no_grad():\n",
        "  torch.cuda.empty_cache()"
      ],
      "metadata": {
        "id": "y87duOg_lI8o"
      },
      "execution_count": null,
      "outputs": []
    },
    {
      "cell_type": "markdown",
      "source": [
        "# Classification"
      ],
      "metadata": {
        "id": "23qOf1LR7mfL"
      }
    },
    {
      "cell_type": "code",
      "source": [
        "import pandas as pd\n",
        "import numpy as np\n",
        "from tqdm.autonotebook import tqdm\n",
        "\n",
        "from sklearn.datasets import make_classification\n",
        "from sklearn.model_selection import train_test_split\n",
        "from sklearn.preprocessing import StandardScaler\n",
        "from sklearn import datasets\n",
        "\n",
        "import warnings\n",
        "import matplotlib.pyplot as plt\n",
        "\n",
        "warnings.filterwarnings(\"ignore\", \"FutureWarning\")\n",
        "plt.style.use(\"dark_background\")\n",
        "\n",
        "import torch\n",
        "import torch.nn as nn\n",
        "import torch.nn.functional as F\n",
        "from torch.utils.data import TensorDataset, DataLoader"
      ],
      "metadata": {
        "id": "QmmG5WNr7oYb"
      },
      "execution_count": null,
      "outputs": []
    },
    {
      "cell_type": "code",
      "source": [
        "DEVICE = \"cuda\" if torch.cuda.is_available() else \"cpu\"\n",
        "DEVICE"
      ],
      "metadata": {
        "colab": {
          "base_uri": "https://localhost:8080/",
          "height": 35
        },
        "id": "rGG7MIwD7uAu",
        "outputId": "2c361238-e2a7-4605-a623-a0ecfd25b7f5"
      },
      "execution_count": null,
      "outputs": [
        {
          "output_type": "execute_result",
          "data": {
            "text/plain": [
              "'cpu'"
            ],
            "application/vnd.google.colaboratory.intrinsic+json": {
              "type": "string"
            }
          },
          "metadata": {},
          "execution_count": 14
        }
      ]
    },
    {
      "cell_type": "code",
      "source": [
        "N_CLASSES = 2\n",
        "X, y = make_classification(n_samples=1000, n_features=20, n_classes=N_CLASSES, random_state=42)\n",
        "X_train, X_test, y_train, y_test = train_test_split(X, y)\n",
        "scaler = StandardScaler()\n",
        "X_train = scaler.fit_transform(X_train)\n",
        "X_test = scaler.transform(X_test)"
      ],
      "metadata": {
        "id": "0ziDBRUQ7uDg"
      },
      "execution_count": null,
      "outputs": []
    },
    {
      "cell_type": "code",
      "source": [
        "train_X = torch.from_numpy(X_train).to(torch.float32)\n",
        "train_y = torch.from_numpy(y_train).type_as(train_X)\n",
        "val_X = torch.from_numpy(X_test).to(torch.float32)\n",
        "val_y = torch.from_numpy(y_test).type_as(val_X)"
      ],
      "metadata": {
        "id": "I8MzeK0G9QXd"
      },
      "execution_count": null,
      "outputs": []
    },
    {
      "cell_type": "code",
      "source": [
        "BATCH = 64\n",
        "\n",
        "train_dataset = TensorDataset(train_X, train_y)\n",
        "val_dataset = TensorDataset(val_X, val_y)\n",
        "\n",
        "train_loader = DataLoader(train_dataset, batch_size=BATCH)\n",
        "val_loader = DataLoader(val_dataset, batch_size=BATCH)"
      ],
      "metadata": {
        "id": "zXtL12Iw9QaC"
      },
      "execution_count": null,
      "outputs": []
    },
    {
      "cell_type": "code",
      "source": [
        "class Net(nn.Module):\n",
        "    def __init__(self, input_features, num_classes):\n",
        "        super(Net, self).__init__()\n",
        "        self.layer1 = nn.Linear(input_features, 64)\n",
        "        self.relu1 = nn.ReLU()\n",
        "        self.layer2 = nn.Linear(64, 32)\n",
        "        self.relu2 = nn.ReLU()\n",
        "        self.layer3 = nn.Linear(32, 1)\n",
        "\n",
        "    def forward(self, x):\n",
        "        x = self.layer1(x)\n",
        "        x = self.relu1(x)\n",
        "        x = self.layer2(x)\n",
        "        x = self.relu2(x)\n",
        "        x = self.layer3(x)\n",
        "        return x"
      ],
      "metadata": {
        "id": "ndrnxS7wCewm"
      },
      "execution_count": null,
      "outputs": []
    },
    {
      "cell_type": "code",
      "source": [
        "model = Net(input_features=X.shape[1], num_classes=N_CLASSES)\n",
        "input_features = X.shape[1]\n",
        "# model = Net()\n",
        "\n",
        "criterion = nn.CrossEntropyLoss()\n",
        "optimizer = torch.optim.Adam(model.parameters(), lr=0.5)\n",
        "scheduler = torch.optim.lr_scheduler.ExponentialLR(optimizer, gamma=0.95)"
      ],
      "metadata": {
        "id": "N7vK6IEd9Qev"
      },
      "execution_count": null,
      "outputs": []
    },
    {
      "cell_type": "code",
      "source": [
        "# поместить модель на GPU\n",
        "model = model.to(DEVICE)\n",
        "\n",
        "losses_train = []\n",
        "losses_test = []\n",
        "total_loss = []\n",
        "lrs = []\n",
        "\n",
        "# задать общее количество эпох\n",
        "MAX_EPOCHS = 100\n",
        "# для каждой эпохи\n",
        "for epoch in tqdm(range(MAX_EPOCHS)):\n",
        "  # для каждой части датасета\n",
        "  for iteration, (X_batch, y_batch) in enumerate(train_loader):\n",
        "    # ЭТАП ОБУЧЕНИЯ\n",
        "    # мы переводим модель в режим обучения\n",
        "    model.train()\n",
        "    # ОБНУЛЯЕМ градиенты у оптимизатора\n",
        "    optimizer.zero_grad()\n",
        "    # пропускам данные через модель\n",
        "    outputs = model(X_batch.to(DEVICE))\n",
        "    # выравняем выходы в одномерный тензор\n",
        "    outputs = outputs.view(-1)\n",
        "    # считаем лосс\n",
        "    loss = criterion(outputs, y_batch.to(DEVICE))\n",
        "    # делаем шаг в обратном направлении\n",
        "    loss.backward()\n",
        "    # собираем лоссы\n",
        "    losses_train.append(loss.detach().cpu().numpy().item())\n",
        "    # делаем шаг оптимизатора\n",
        "    optimizer.step()\n",
        "  scheduler.step()\n",
        "  lrs.append(scheduler.get_last_lr())\n",
        "  # собираем средний лосс\n",
        "  total_loss.append(np.mean(losses_train))\n",
        "  # ШАГ ВАЛИДАЦИИ\n",
        "  for iteration, (X_batch, y_batch) in enumerate(val_loader):\n",
        "    # режим инференса или валидации, тестирования\n",
        "    model.eval()\n",
        "    # обязательно добавить\n",
        "    with torch.no_grad():\n",
        "      outputs = model(X_batch.to(DEVICE))\n",
        "      outputs = outputs.view(-1)\n",
        "      loss = criterion(outputs, y_batch.to(DEVICE))\n",
        "      losses_test.append(loss.detach().cpu().numpy().item())"
      ],
      "metadata": {
        "colab": {
          "base_uri": "https://localhost:8080/",
          "height": 49,
          "referenced_widgets": [
            "6758a5a44e9345e99e1491f9b072884d",
            "6d560648ba6e467ab4aa694bf5346afc",
            "78cb842f93954337b19b1d4c79cfd93f",
            "9cc1b89d520c459da1dda3d75754bf86",
            "d257bc47b3af4cbabb91f0cd98154ea2",
            "81d2e0299c1a4acba8ca0d6afb99cd6c",
            "9b1f18d36e5b412d9d8bbb0da1fcd8c5",
            "cef76571ed9949deb51b2e08d6fbefe3",
            "1835019bae08479cab2eddfbee656fb3",
            "4a9896c6c66e4394a37ba68a78ef83d4",
            "94af004af14446fe9d2f861e3229dbbe"
          ]
        },
        "id": "2fXpqT7_9Qha",
        "outputId": "6508ec9a-c3fc-43cc-cc56-d2df8fd7b721"
      },
      "execution_count": null,
      "outputs": [
        {
          "output_type": "display_data",
          "data": {
            "text/plain": [
              "  0%|          | 0/100 [00:00<?, ?it/s]"
            ],
            "application/vnd.jupyter.widget-view+json": {
              "version_major": 2,
              "version_minor": 0,
              "model_id": "6758a5a44e9345e99e1491f9b072884d"
            }
          },
          "metadata": {}
        }
      ]
    },
    {
      "cell_type": "code",
      "source": [
        "plt.figure(figsize=(15, 6))\n",
        "plt.plot(range(len(total_loss)),\n",
        "         total_loss,\n",
        "         label='Train Loss',\n",
        "         color='g',\n",
        "         linestyle=\"-\"\n",
        "         )\n",
        "plt.xlabel(\"Epochs\")\n",
        "plt.ylabel(\"Loss\")\n",
        "plt.title(\"Torch_NN classification loss train\")\n",
        "plt.legend()\n",
        "plt.show()"
      ],
      "metadata": {
        "colab": {
          "base_uri": "https://localhost:8080/",
          "height": 564
        },
        "id": "-GykHwAfC1FP",
        "outputId": "d810f358-cbd7-47f1-f66d-22f269b25942"
      },
      "execution_count": null,
      "outputs": [
        {
          "output_type": "display_data",
          "data": {
            "text/plain": [
              "<Figure size 1500x600 with 1 Axes>"
            ],
            "image/png": "[encoded data removed]"
          },
          "metadata": {}
        }
      ]
    },
    {
      "cell_type": "code",
      "source": [
        "plt.figure(figsize=(15, 6))\n",
        "plt.plot(range(len(losses_test)),\n",
        "         losses_test,\n",
        "         label='Test Loss',\n",
        "         color='b',\n",
        "         linestyle=\"-\"\n",
        "         )\n",
        "plt.title('Test Loss over Iterations')\n",
        "plt.xlabel('Iterations')\n",
        "plt.title(\"Torch_NN classification loss test\")\n",
        "plt.legend()\n",
        "plt.show()"
      ],
      "metadata": {
        "colab": {
          "base_uri": "https://localhost:8080/",
          "height": 564
        },
        "id": "_MNQt7m6C1Hx",
        "outputId": "d9f9d22a-1a90-4891-837a-5f2be84f6861"
      },
      "execution_count": null,
      "outputs": [
        {
          "output_type": "display_data",
          "data": {
            "text/plain": [
              "<Figure size 1500x600 with 1 Axes>"
            ],
            "image/png": "[encoded data removed]"
          },
          "metadata": {}
        }
      ]
    },
    {
      "cell_type": "code",
      "source": [
        "plt.plot(lrs, label='Learning rate')\n",
        "plt.title('Learning rate')\n",
        "plt.xlabel(\"Epochs\")\n",
        "plt.ylabel(\"Learning rate\")\n",
        "plt.legend()\n",
        "plt.show()"
      ],
      "metadata": {
        "colab": {
          "base_uri": "https://localhost:8080/",
          "height": 472
        },
        "id": "Q09sKSmgC1Ko",
        "outputId": "7e66f26f-9c6c-4b00-9d3d-277af93710fe"
      },
      "execution_count": null,
      "outputs": [
        {
          "output_type": "display_data",
          "data": {
            "text/plain": [
              "<Figure size 640x480 with 1 Axes>"
            ],
            "image/png": "[encoded data removed]"
          },
          "metadata": {}
        }
      ]
    }
  ]
}